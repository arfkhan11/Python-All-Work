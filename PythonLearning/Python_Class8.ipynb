{
 "cells": [
  {
   "cell_type": "markdown",
   "metadata": {},
   "source": [
    "# FUNCTIONS"
   ]
  },
  {
   "cell_type": "code",
   "execution_count": 1,
   "metadata": {},
   "outputs": [
    {
     "name": "stdout",
     "output_type": "stream",
     "text": [
      "My name is Shahzad\n"
     ]
    }
   ],
   "source": [
    "def name():\n",
    "    print(\"My name is Shahzad\")\n",
    "    \n",
    "    \n",
    "    \n",
    "name()    "
   ]
  },
  {
   "cell_type": "code",
   "execution_count": 5,
   "metadata": {},
   "outputs": [
    {
     "name": "stdout",
     "output_type": "stream",
     "text": [
      "My name is Shahzad Sheikh\n"
     ]
    }
   ],
   "source": [
    "def name1(name):\n",
    "    print(\"My name is Shahzad Sheikh\")\n",
    "    \n",
    "    \n",
    "name1(name)    \n",
    "    \n",
    "    "
   ]
  },
  {
   "cell_type": "code",
   "execution_count": 6,
   "metadata": {},
   "outputs": [
    {
     "name": "stdout",
     "output_type": "stream",
     "text": [
      "17\n"
     ]
    }
   ],
   "source": [
    "def cal(a,b):\n",
    "    c = a + b\n",
    "    print(c)\n",
    "    \n",
    "    \n",
    "cal(9,8)    "
   ]
  },
  {
   "cell_type": "code",
   "execution_count": 23,
   "metadata": {},
   "outputs": [
    {
     "name": "stdout",
     "output_type": "stream",
     "text": [
      "0\n"
     ]
    }
   ],
   "source": [
    "def cal1(a , b):\n",
    "    c1 = a - b\n",
    "    return c1\n",
    "\n",
    "a1 = cal1(9, 9)\n",
    "print(a1)"
   ]
  },
  {
   "cell_type": "code",
   "execution_count": 21,
   "metadata": {},
   "outputs": [
    {
     "name": "stdout",
     "output_type": "stream",
     "text": [
      "Hello , Ali\n",
      "Hello , Umer\n"
     ]
    }
   ],
   "source": [
    "def name1(friends):\n",
    "    for friend in friends:\n",
    "        a = \"Hello , \" + friend.title()\n",
    "        print(a)\n",
    "\n",
    "        \n",
    "user = ['ali' , 'umer']\n",
    "name1(user)"
   ]
  },
  {
   "cell_type": "markdown",
   "metadata": {},
   "source": [
    "# KEYWORD PARAMETER"
   ]
  },
  {
   "cell_type": "code",
   "execution_count": 27,
   "metadata": {},
   "outputs": [
    {
     "name": "stdout",
     "output_type": "stream",
     "text": [
      "My name is Shahzad and my father name is Moiz.\n"
     ]
    }
   ],
   "source": [
    "def family(my_name , f_name):\n",
    "    print(f\"My name is {my_name} and my father name is {f_name}.\")\n",
    "    \n",
    "    \n",
    "family(f_name = 'Moiz' , my_name=\"Shahzad\")    "
   ]
  },
  {
   "cell_type": "code",
   "execution_count": 29,
   "metadata": {},
   "outputs": [
    {
     "name": "stdout",
     "output_type": "stream",
     "text": [
      "My name is Shahzadand my age is 21and my gender isMale...\n"
     ]
    }
   ],
   "source": [
    "def my_info(name , age , gender):\n",
    "    info = \"My name is \" + name + \" and my age is \" + str(age) + \"and my gender is\" + gender + \"...\"\n",
    "    print(info)\n",
    "    \n",
    "    \n",
    "    \n",
    "my_info(age=21 , gender=\"Male\" , name = \"Shahzad\")    "
   ]
  },
  {
   "cell_type": "markdown",
   "metadata": {},
   "source": [
    "# DEAFULT PARAMETER"
   ]
  },
  {
   "cell_type": "code",
   "execution_count": 39,
   "metadata": {},
   "outputs": [
    {
     "name": "stdout",
     "output_type": "stream",
     "text": [
      "I live in Apple.\n",
      "I have an sharfabad.\n",
      "I love to drive Audi.\n"
     ]
    }
   ],
   "source": [
    "def things(home  , mobile = 'Samsung', car = 'Toyota'):\n",
    "    print(f\"I live in {home}.\")\n",
    "    print(f\"I have an {mobile}.\")\n",
    "    print(f\"I love to drive {car}.\")\n",
    "    \n",
    "    \n",
    "things('Apple' ,'sharfabad' , car= 'Audi' )    "
   ]
  },
  {
   "cell_type": "code",
   "execution_count": 48,
   "metadata": {},
   "outputs": [
    {
     "name": "stdout",
     "output_type": "stream",
     "text": [
      "I had done my matric from HAPPY HOME SCHOOL.\n",
      "I had done my inter from NCR-CET COLLEGE. \n"
     ]
    }
   ],
   "source": [
    "def education(matric , college , university = ' '):\n",
    "    print(f\"I had done my matric from {matric}.\" )\n",
    "    print(f\"I had done my inter from {college}. \")\n",
    "    \n",
    "    \n",
    "education('HAPPY HOME SCHOOL' , 'NCR-CET COLLEGE')    "
   ]
  },
  {
   "cell_type": "code",
   "execution_count": 46,
   "metadata": {},
   "outputs": [
    {
     "name": "stdout",
     "output_type": "stream",
     "text": [
      "2 3 (4,)\n"
     ]
    }
   ],
   "source": [
    "def func1(a,b,*c):\n",
    "    print(a,b,c)\n",
    "func1(2,3,4)"
   ]
  },
  {
   "cell_type": "code",
   "execution_count": 47,
   "metadata": {},
   "outputs": [
    {
     "name": "stdout",
     "output_type": "stream",
     "text": [
      "2 3 (4, 5, 7)\n"
     ]
    }
   ],
   "source": [
    "func1(2,3,4,5,7)"
   ]
  },
  {
   "cell_type": "code",
   "execution_count": 51,
   "metadata": {},
   "outputs": [],
   "source": [
    "def my_name(f_name , l_name , m_name=' '):\n",
    "    if m_name:\n",
    "        full_name = f_name + ' ' + m_name + ' '+ l_name\n",
    "    else:\n",
    "        full_name = f_name + \" \" + l_name\n",
    "        \n",
    "    return full_name\n"
   ]
  },
  {
   "cell_type": "code",
   "execution_count": 52,
   "metadata": {},
   "outputs": [
    {
     "name": "stdout",
     "output_type": "stream",
     "text": [
      "Muhammad Shahzad Ahsan\n"
     ]
    }
   ],
   "source": [
    "a1 = my_name('Muhammad' , \"Ahsan\" , \"Shahzad\")\n",
    "print(a1)"
   ]
  },
  {
   "cell_type": "code",
   "execution_count": 53,
   "metadata": {},
   "outputs": [
    {
     "name": "stdout",
     "output_type": "stream",
     "text": [
      "Shahzad   Ahsan\n"
     ]
    }
   ],
   "source": [
    "a2 = my_name('Shahzad' ,'Ahsan')\n",
    "print(a2)"
   ]
  },
  {
   "cell_type": "markdown",
   "metadata": {},
   "source": [
    "# 48-Using functions as variables (which is what they really are)"
   ]
  },
  {
   "cell_type": "code",
   "execution_count": 69,
   "metadata": {},
   "outputs": [],
   "source": [
    "def commission(commission):\n",
    "    print(commission)\n",
    "    return commission*2\n",
    "\n",
    "\n",
    "def basic (basic):   \n",
    "    print(basic)\n",
    "    return basic*5\n",
    "    "
   ]
  },
  {
   "cell_type": "code",
   "execution_count": 70,
   "metadata": {},
   "outputs": [
    {
     "name": "stdout",
     "output_type": "stream",
     "text": [
      "1000\n",
      "10000\n",
      "(2000, 50000)\n"
     ]
    }
   ],
   "source": [
    "gross = (commission(1000) , basic(10000))\n",
    "print(gross)"
   ]
  },
  {
   "cell_type": "markdown",
   "metadata": {},
   "source": [
    "# 49 Functions: Local vs. global variables"
   ]
  },
  {
   "cell_type": "code",
   "execution_count": 75,
   "metadata": {},
   "outputs": [
    {
     "name": "stdout",
     "output_type": "stream",
     "text": [
      "the total paid amount is19800.0\n",
      "52\n"
     ]
    }
   ],
   "source": [
    "totalPay = 0\n",
    "def commissionCalc(salesValue):\n",
    "    if salesValue>10000:\n",
    "        percent = 10          ##### Local varaible\n",
    "        commission = salesValue/100*percent\n",
    "        return commission\n",
    "        \n",
    "def paid(basic):\n",
    "    totalPay = basic + commissionCalc(15000)  \n",
    "    return totalPay\n",
    "\n",
    "   \n",
    "print(f\"the total paid amount is{paid(12000)}\")"
   ]
  },
  {
   "cell_type": "markdown",
   "metadata": {},
   "source": [
    "# Making a varaible global"
   ]
  },
  {
   "cell_type": "code",
   "execution_count": 76,
   "metadata": {},
   "outputs": [
    {
     "name": "stdout",
     "output_type": "stream",
     "text": [
      "the total paid amount is13500.0 with commmsion perc is 10\n"
     ]
    }
   ],
   "source": [
    "totalPay = 0  # global variable\n",
    "def commissionCalc(salesValue):\n",
    "    if salesValue>10000:\n",
    "        global percent  # MAKING A LOCAL VARIABLE AS GLOBAL\n",
    "        percent = 10          ##### Local varaible\n",
    "        commission = salesValue/100*percent\n",
    "        return commission\n",
    "        \n",
    "def paid(basic):\n",
    "    totalPay = basic + commissionCalc(15000)  # A FUNCTION IS CALLED WITHIN A FUNC\n",
    "    return totalPay\n",
    "\n",
    "   \n",
    "print(f\"the total paid amount is{paid(12000)} with commmsion perc is {percent}\")\n"
   ]
  },
  {
   "cell_type": "markdown",
   "metadata": {},
   "source": [
    "# While Loops "
   ]
  },
  {
   "cell_type": "code",
   "execution_count": 88,
   "metadata": {},
   "outputs": [
    {
     "name": "stdout",
     "output_type": "stream",
     "text": [
      "1  a chota hy 10 se \n",
      "2  a chota hy 10 se \n",
      "3  a chota hy 10 se \n",
      "4  a chota hy 10 se \n",
      "5  a chota hy 10 se \n",
      "6  a chota hy 10 se \n",
      "7  a chota hy 10 se \n",
      "8  a chota hy 10 se \n",
      "9  a chota hy 10 se \n"
     ]
    }
   ],
   "source": [
    "a = 1\n",
    "while a<10:\n",
    "    print(a, \" a chota hy 10 se \")\n",
    "    a +=1"
   ]
  },
  {
   "cell_type": "code",
   "execution_count": 79,
   "metadata": {},
   "outputs": [
    {
     "name": "stdout",
     "output_type": "stream",
     "text": [
      "1  a chota hy 10 se \n",
      "2  a chota hy 10 se \n",
      "3  a chota hy 10 se \n",
      "4  a chota hy 10 se \n",
      "5  a chota hy 10 se \n",
      "6  a chota hy 10 se \n",
      "7  a chota hy 10 se \n",
      "8  a chota hy 10 se \n",
      "9  a chota hy 10 se \n"
     ]
    }
   ],
   "source": [
    "for a in range(1,10):\n",
    "    print(a, \" a chota hy 10 se \")"
   ]
  },
  {
   "cell_type": "code",
   "execution_count": 83,
   "metadata": {},
   "outputs": [
    {
     "name": "stdout",
     "output_type": "stream",
     "text": [
      "What is your name sir..a\n",
      "Welcome to class sir a\n",
      "What is your name sir..b\n",
      "Welcome to class sir b\n",
      "What is your name sir..c\n",
      "Welcome to class sir c\n",
      "What is your name sir..d\n",
      "Welcome to class sir d\n",
      "What is your name sir..e\n",
      "Welcome to class sir e\n",
      "What is your name sir..f\n",
      "Welcome to class sir f\n",
      "What is your name sir..g\n",
      "Welcome to class sir g\n",
      "What is your name sir..h\n",
      "Welcome to class sir h\n",
      "What is your name sir..i\n",
      "Welcome to class sir i\n",
      "What is your name sir..j\n",
      "Welcome to class sir j\n"
     ]
    }
   ],
   "source": [
    "for a in range (10):\n",
    "    name = input(\"What is your name sir..\")\n",
    "    print(f\"Welcome to class sir {name}\")"
   ]
  },
  {
   "cell_type": "code",
   "execution_count": 86,
   "metadata": {},
   "outputs": [
    {
     "name": "stdout",
     "output_type": "stream",
     "text": [
      "What is your name sir..asad\n",
      "Welcome to class sir asad\n",
      "What is your name sir..dsdsdf\n",
      "Welcome to class sir dsdsdf\n",
      "What is your name sir..hussain\n",
      "Welcome to class sir hussain\n"
     ]
    }
   ],
   "source": [
    "flag =True\n",
    "while flag:\n",
    "    name = input(\"What is your name sir..\")\n",
    "    \n",
    "    print(f\"Welcome to class sir {name}\")\n",
    "    if name == \"hussain\":\n",
    "        flag =False\n",
    "    \n",
    "    "
   ]
  },
  {
   "cell_type": "code",
   "execution_count": null,
   "metadata": {},
   "outputs": [],
   "source": []
  },
  {
   "cell_type": "code",
   "execution_count": null,
   "metadata": {},
   "outputs": [],
   "source": []
  },
  {
   "cell_type": "code",
   "execution_count": null,
   "metadata": {},
   "outputs": [],
   "source": []
  },
  {
   "cell_type": "code",
   "execution_count": null,
   "metadata": {},
   "outputs": [],
   "source": []
  },
  {
   "cell_type": "code",
   "execution_count": null,
   "metadata": {},
   "outputs": [],
   "source": []
  },
  {
   "cell_type": "code",
   "execution_count": null,
   "metadata": {},
   "outputs": [],
   "source": []
  },
  {
   "cell_type": "code",
   "execution_count": null,
   "metadata": {},
   "outputs": [],
   "source": []
  },
  {
   "cell_type": "code",
   "execution_count": null,
   "metadata": {},
   "outputs": [],
   "source": []
  },
  {
   "cell_type": "code",
   "execution_count": null,
   "metadata": {},
   "outputs": [],
   "source": []
  },
  {
   "cell_type": "code",
   "execution_count": null,
   "metadata": {},
   "outputs": [],
   "source": []
  },
  {
   "cell_type": "code",
   "execution_count": null,
   "metadata": {},
   "outputs": [],
   "source": []
  },
  {
   "cell_type": "code",
   "execution_count": null,
   "metadata": {},
   "outputs": [],
   "source": []
  },
  {
   "cell_type": "code",
   "execution_count": null,
   "metadata": {},
   "outputs": [],
   "source": []
  },
  {
   "cell_type": "code",
   "execution_count": null,
   "metadata": {},
   "outputs": [],
   "source": []
  },
  {
   "cell_type": "code",
   "execution_count": null,
   "metadata": {},
   "outputs": [],
   "source": []
  },
  {
   "cell_type": "code",
   "execution_count": null,
   "metadata": {},
   "outputs": [],
   "source": []
  },
  {
   "cell_type": "code",
   "execution_count": null,
   "metadata": {},
   "outputs": [],
   "source": []
  },
  {
   "cell_type": "code",
   "execution_count": null,
   "metadata": {},
   "outputs": [],
   "source": []
  },
  {
   "cell_type": "code",
   "execution_count": null,
   "metadata": {},
   "outputs": [],
   "source": []
  },
  {
   "cell_type": "code",
   "execution_count": null,
   "metadata": {},
   "outputs": [],
   "source": []
  },
  {
   "cell_type": "code",
   "execution_count": null,
   "metadata": {},
   "outputs": [],
   "source": []
  },
  {
   "cell_type": "code",
   "execution_count": null,
   "metadata": {},
   "outputs": [],
   "source": []
  },
  {
   "cell_type": "code",
   "execution_count": null,
   "metadata": {},
   "outputs": [],
   "source": []
  },
  {
   "cell_type": "code",
   "execution_count": null,
   "metadata": {},
   "outputs": [],
   "source": []
  },
  {
   "cell_type": "code",
   "execution_count": null,
   "metadata": {},
   "outputs": [],
   "source": []
  },
  {
   "cell_type": "code",
   "execution_count": null,
   "metadata": {},
   "outputs": [],
   "source": []
  },
  {
   "cell_type": "code",
   "execution_count": null,
   "metadata": {},
   "outputs": [],
   "source": []
  },
  {
   "cell_type": "code",
   "execution_count": null,
   "metadata": {},
   "outputs": [],
   "source": []
  },
  {
   "cell_type": "code",
   "execution_count": null,
   "metadata": {},
   "outputs": [],
   "source": []
  },
  {
   "cell_type": "code",
   "execution_count": null,
   "metadata": {},
   "outputs": [],
   "source": []
  },
  {
   "cell_type": "code",
   "execution_count": null,
   "metadata": {},
   "outputs": [],
   "source": []
  },
  {
   "cell_type": "code",
   "execution_count": null,
   "metadata": {},
   "outputs": [],
   "source": []
  },
  {
   "cell_type": "code",
   "execution_count": null,
   "metadata": {},
   "outputs": [],
   "source": []
  },
  {
   "cell_type": "code",
   "execution_count": null,
   "metadata": {},
   "outputs": [],
   "source": []
  },
  {
   "cell_type": "code",
   "execution_count": null,
   "metadata": {},
   "outputs": [],
   "source": []
  },
  {
   "cell_type": "code",
   "execution_count": null,
   "metadata": {},
   "outputs": [],
   "source": []
  },
  {
   "cell_type": "code",
   "execution_count": null,
   "metadata": {},
   "outputs": [],
   "source": []
  },
  {
   "cell_type": "code",
   "execution_count": null,
   "metadata": {},
   "outputs": [],
   "source": []
  },
  {
   "cell_type": "code",
   "execution_count": null,
   "metadata": {},
   "outputs": [],
   "source": []
  },
  {
   "cell_type": "code",
   "execution_count": null,
   "metadata": {},
   "outputs": [],
   "source": []
  },
  {
   "cell_type": "code",
   "execution_count": null,
   "metadata": {},
   "outputs": [],
   "source": []
  },
  {
   "cell_type": "code",
   "execution_count": null,
   "metadata": {},
   "outputs": [],
   "source": []
  },
  {
   "cell_type": "code",
   "execution_count": null,
   "metadata": {},
   "outputs": [],
   "source": []
  },
  {
   "cell_type": "code",
   "execution_count": null,
   "metadata": {},
   "outputs": [],
   "source": []
  }
 ],
 "metadata": {
  "kernelspec": {
   "display_name": "Python 3",
   "language": "python",
   "name": "python3"
  },
  "language_info": {
   "codemirror_mode": {
    "name": "ipython",
    "version": 3
   },
   "file_extension": ".py",
   "mimetype": "text/x-python",
   "name": "python",
   "nbconvert_exporter": "python",
   "pygments_lexer": "ipython3",
   "version": "3.7.3"
  }
 },
 "nbformat": 4,
 "nbformat_minor": 2
}
