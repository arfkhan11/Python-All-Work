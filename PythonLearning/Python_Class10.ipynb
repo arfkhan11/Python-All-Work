{
 "cells": [
  {
   "cell_type": "markdown",
   "metadata": {},
   "source": [
    "# INHERITANCE"
   ]
  },
  {
   "cell_type": "code",
   "execution_count": 1,
   "metadata": {},
   "outputs": [],
   "source": [
    "#code reusability\n",
    "class Car():\n",
    "    def __init__(self,make,model,year):\n",
    "        self.make=make\n",
    "        self.model=model\n",
    "        self.year=year\n",
    "        self.odometerReading=0 #this attribute is not mandatory for instance creation\n",
    "        \n",
    "    def setOdometerReading(self, newReading):\n",
    "        self.odometerReading=newReading\n",
    "        \n",
    "    def getOdometerReading(self):\n",
    "        print(f\"current odometer reading is {self.odometerReading}\")\n",
    "        \n",
    "        \n",
    "    def get_discriptive_name(self):\n",
    "        long_name=str(self.year)+''+self.make+''+self.model\n",
    "        return long_name.title()\n",
    "    \n",
    "    def getFuelTankCapacity(self):\n",
    "        print(\"car has 100 litre tank\")\n",
    "    \n",
    "    "
   ]
  },
  {
   "cell_type": "code",
   "execution_count": 137,
   "metadata": {},
   "outputs": [],
   "source": [
    "class ElectricCar(Car):\n",
    "    def __init__(self, make, model, year):\n",
    "        super(). __init__(make, model, year)\n",
    "        self.battery=100\n",
    "        self.engine=\"2000CC\"\n",
    "        self.software=\"Android\"\n",
    "        \n",
    "        self.battery=Battery(100,\"200amp\",27,\"AGS\")\n",
    "        \n",
    "        self.engine=Engine(200,30000,\"Zic\",5,2000)\n",
    "        \n",
    "    def getBatterySize(self):\n",
    "        print(f\"The electricCar battery size is {self.battery}\")\n",
    "        \n",
    "    def setBatterySize(self, newBatterySize):\n",
    "        self.battery=newBatterySize\n",
    "        \n",
    "    #redefined parent class function in child class    \n",
    "    def getFuelTankCapacity(self):\n",
    "        print(\"Electric Car does not have fuel tank\")    \n",
    "        \n",
    "       "
   ]
  },
  {
   "cell_type": "code",
   "execution_count": 138,
   "metadata": {},
   "outputs": [],
   "source": [
    "eCar1 = ElectricCar(\"Hyundai\",\"Rebond\",2018)"
   ]
  },
  {
   "cell_type": "code",
   "execution_count": 139,
   "metadata": {},
   "outputs": [
    {
     "data": {
      "text/plain": [
       "'2018Hyundairebond'"
      ]
     },
     "execution_count": 139,
     "metadata": {},
     "output_type": "execute_result"
    }
   ],
   "source": [
    "eCar1.get_discriptive_name()"
   ]
  },
  {
   "cell_type": "code",
   "execution_count": 140,
   "metadata": {},
   "outputs": [
    {
     "name": "stdout",
     "output_type": "stream",
     "text": [
      "current odometer reading is 0\n"
     ]
    }
   ],
   "source": [
    "eCar1.getOdometerReading()"
   ]
  },
  {
   "cell_type": "code",
   "execution_count": 141,
   "metadata": {},
   "outputs": [
    {
     "data": {
      "text/plain": [
       "'Hyundai'"
      ]
     },
     "execution_count": 141,
     "metadata": {},
     "output_type": "execute_result"
    }
   ],
   "source": [
    "eCar1.make"
   ]
  },
  {
   "cell_type": "code",
   "execution_count": 142,
   "metadata": {},
   "outputs": [
    {
     "data": {
      "text/plain": [
       "'Rebond'"
      ]
     },
     "execution_count": 142,
     "metadata": {},
     "output_type": "execute_result"
    }
   ],
   "source": [
    "eCar1.model"
   ]
  },
  {
   "cell_type": "code",
   "execution_count": 143,
   "metadata": {},
   "outputs": [
    {
     "data": {
      "text/plain": [
       "0"
      ]
     },
     "execution_count": 143,
     "metadata": {},
     "output_type": "execute_result"
    }
   ],
   "source": [
    "eCar1.odometerReading"
   ]
  },
  {
   "cell_type": "code",
   "execution_count": 144,
   "metadata": {},
   "outputs": [],
   "source": [
    "eCar1.setOdometerReading(100)"
   ]
  },
  {
   "cell_type": "code",
   "execution_count": 145,
   "metadata": {},
   "outputs": [
    {
     "name": "stdout",
     "output_type": "stream",
     "text": [
      "current odometer reading is 100\n"
     ]
    }
   ],
   "source": [
    "eCar1.getOdometerReading()"
   ]
  },
  {
   "cell_type": "code",
   "execution_count": 146,
   "metadata": {},
   "outputs": [
    {
     "data": {
      "text/plain": [
       "2018"
      ]
     },
     "execution_count": 146,
     "metadata": {},
     "output_type": "execute_result"
    }
   ],
   "source": [
    "eCar1.year"
   ]
  },
  {
   "cell_type": "code",
   "execution_count": 147,
   "metadata": {},
   "outputs": [
    {
     "name": "stdout",
     "output_type": "stream",
     "text": [
      "Electric Car does not have fuel tank\n"
     ]
    }
   ],
   "source": [
    "eCar1.getFuelTankCapacity()"
   ]
  },
  {
   "cell_type": "code",
   "execution_count": 148,
   "metadata": {},
   "outputs": [
    {
     "name": "stdout",
     "output_type": "stream",
     "text": [
      "The electricCar battery size is <__main__.Battery object at 0x0000029FF5327D68>\n"
     ]
    }
   ],
   "source": [
    "eCar1.getBatterySize()"
   ]
  },
  {
   "cell_type": "code",
   "execution_count": 149,
   "metadata": {},
   "outputs": [],
   "source": [
    "eCar1.setBatterySize(1)"
   ]
  },
  {
   "cell_type": "code",
   "execution_count": 150,
   "metadata": {},
   "outputs": [
    {
     "name": "stdout",
     "output_type": "stream",
     "text": [
      "The electricCar battery size is 1\n"
     ]
    }
   ],
   "source": [
    "eCar1.getBatterySize()"
   ]
  },
  {
   "cell_type": "code",
   "execution_count": 151,
   "metadata": {},
   "outputs": [
    {
     "name": "stdout",
     "output_type": "stream",
     "text": [
      "Electric Car does not have fuel tank\n"
     ]
    }
   ],
   "source": [
    "eCar1.getFuelTankCapacity()"
   ]
  },
  {
   "cell_type": "code",
   "execution_count": 152,
   "metadata": {},
   "outputs": [],
   "source": [
    "class Battery():\n",
    "    def __init__(self, size, amp, plates, comp):\n",
    "        self.batterySize=size\n",
    "        self.amp=amp\n",
    "        self.plates=plates\n",
    "        self.comp=comp\n",
    "     \n",
    "    def getBatterySize(self):\n",
    "        print(f\"The electricCar battery size is {self.batterySize}\")\n",
    "        \n",
    "    def setBatterySize(self, newBatterySize):\n",
    "        self.battery=newBatterySize\n",
    "    "
   ]
  },
  {
   "cell_type": "code",
   "execution_count": 153,
   "metadata": {},
   "outputs": [],
   "source": [
    "ecar11= ElectricCar(\"Civic\",\"Halo\",2020)"
   ]
  },
  {
   "cell_type": "code",
   "execution_count": 154,
   "metadata": {},
   "outputs": [
    {
     "name": "stdout",
     "output_type": "stream",
     "text": [
      "The electricCar battery size is 100\n"
     ]
    }
   ],
   "source": [
    "ecar11.battery.getBatterySize()"
   ]
  },
  {
   "cell_type": "code",
   "execution_count": 155,
   "metadata": {},
   "outputs": [],
   "source": [
    "ecar11.battery.setBatterySize(1)\n"
   ]
  },
  {
   "cell_type": "code",
   "execution_count": 156,
   "metadata": {},
   "outputs": [
    {
     "name": "stdout",
     "output_type": "stream",
     "text": [
      "The electricCar battery size is 100\n"
     ]
    }
   ],
   "source": [
    "ecar11.battery.getBatterySize()"
   ]
  },
  {
   "cell_type": "code",
   "execution_count": 157,
   "metadata": {},
   "outputs": [
    {
     "data": {
      "text/plain": [
       "27"
      ]
     },
     "execution_count": 157,
     "metadata": {},
     "output_type": "execute_result"
    }
   ],
   "source": [
    "ecar11.battery.plates"
   ]
  },
  {
   "cell_type": "code",
   "execution_count": 158,
   "metadata": {},
   "outputs": [
    {
     "data": {
      "text/plain": [
       "'AGS'"
      ]
     },
     "execution_count": 158,
     "metadata": {},
     "output_type": "execute_result"
    }
   ],
   "source": [
    "ecar11.battery.comp"
   ]
  },
  {
   "cell_type": "code",
   "execution_count": 159,
   "metadata": {},
   "outputs": [],
   "source": [
    "class Engine():\n",
    "    def __init__(self,engine_size,engine_price, engine_oil, engine_piston,engine_speed_CC):\n",
    "        self.engine_size1=engine_size\n",
    "        self.engine_price1=engine_price\n",
    "        self.engine_oil1=engine_oil\n",
    "        self.engine_piston1=engine_piston\n",
    "        self.engine_speed_CC1=engine_speed_CC\n",
    "        \n",
    "    def get_engine_speed(self): #this function override the main class car having the same function name\n",
    "        print(\"20000XCC speed engine\")"
   ]
  },
  {
   "cell_type": "code",
   "execution_count": 160,
   "metadata": {},
   "outputs": [
    {
     "data": {
      "text/plain": [
       "'Zic'"
      ]
     },
     "execution_count": 160,
     "metadata": {},
     "output_type": "execute_result"
    }
   ],
   "source": [
    "ecar11.engine.engine_oil1"
   ]
  },
  {
   "cell_type": "code",
   "execution_count": 161,
   "metadata": {},
   "outputs": [
    {
     "data": {
      "text/plain": [
       "5"
      ]
     },
     "execution_count": 161,
     "metadata": {},
     "output_type": "execute_result"
    }
   ],
   "source": [
    "ecar11.engine.engine_piston1"
   ]
  },
  {
   "cell_type": "code",
   "execution_count": 162,
   "metadata": {},
   "outputs": [
    {
     "data": {
      "text/plain": [
       "30000"
      ]
     },
     "execution_count": 162,
     "metadata": {},
     "output_type": "execute_result"
    }
   ],
   "source": [
    "ecar11.engine.engine_price1"
   ]
  },
  {
   "cell_type": "code",
   "execution_count": 163,
   "metadata": {},
   "outputs": [
    {
     "data": {
      "text/plain": [
       "200"
      ]
     },
     "execution_count": 163,
     "metadata": {},
     "output_type": "execute_result"
    }
   ],
   "source": [
    "ecar11.engine.engine_size1"
   ]
  },
  {
   "cell_type": "code",
   "execution_count": 164,
   "metadata": {},
   "outputs": [
    {
     "data": {
      "text/plain": [
       "2000"
      ]
     },
     "execution_count": 164,
     "metadata": {},
     "output_type": "execute_result"
    }
   ],
   "source": [
    "ecar11.engine.engine_speed_CC1"
   ]
  },
  {
   "cell_type": "code",
   "execution_count": 166,
   "metadata": {},
   "outputs": [
    {
     "name": "stdout",
     "output_type": "stream",
     "text": [
      "20000XCC speed engine\n"
     ]
    }
   ],
   "source": [
    "ecar11.engine.get_engine_speed()"
   ]
  },
  {
   "cell_type": "markdown",
   "metadata": {},
   "source": [
    "# FILE HANDLING"
   ]
  },
  {
   "cell_type": "code",
   "execution_count": 188,
   "metadata": {},
   "outputs": [
    {
     "name": "stdout",
     "output_type": "stream",
     "text": [
      "Hello pythonYour are learning python\n",
      "----------------\n",
      "Hello pythonYour are learning python\n"
     ]
    }
   ],
   "source": [
    "with open(\"saylani.txt\", \"w\") as f:\n",
    "    f.write(\"I am teaching python\")\n",
    "    f.write(\"Your are learning python\")\n",
    "    \n",
    "with open(\"saylani.txt\", \"w\") as f:\n",
    "    f.write(\"Hello python\")\n",
    "    f.write(\"Your are learning python\")    \n",
    "    \n",
    "    \n",
    "with open(\"saylani.txt\", \"r\") as reader:\n",
    "    print(reader.read())\n",
    "    print(\"----------------\")\n",
    "    reader.seek(0)\n",
    "    print(reader.read())"
   ]
  },
  {
   "cell_type": "code",
   "execution_count": 190,
   "metadata": {},
   "outputs": [],
   "source": [
    "with open(\"saylani.txt\", \"a\") as file:\n",
    "    file.write(\"HAHAHAHA\")\n",
    "    \n",
    "    "
   ]
  },
  {
   "cell_type": "code",
   "execution_count": 191,
   "metadata": {},
   "outputs": [
    {
     "name": "stdout",
     "output_type": "stream",
     "text": [
      "Hello pythonYour are learning pythonHAHAHAHA\n",
      "----------------\n",
      "Hello pythonYour are learning pythonHAHAHAHA\n"
     ]
    }
   ],
   "source": [
    "with open(\"saylani.txt\", \"r\") as reader:\n",
    "    print(reader.read())\n",
    "    print(\"----------------\")\n",
    "    reader.seek(0)\n",
    "    print(reader.read())"
   ]
  },
  {
   "cell_type": "code",
   "execution_count": 204,
   "metadata": {},
   "outputs": [
    {
     "name": "stdout",
     "output_type": "stream",
     "text": [
      "Hello WorldnYour are learning pythonHAHAHAHAHello WorldHello World\n"
     ]
    }
   ],
   "source": [
    "with open(\"saylani.txt\", \"r+\") as file: #r+ does not create files\n",
    "    #file.write(\"Hello World\")\n",
    "    #print(file.read())\n",
    "    #print(\"+++++\")\n",
    "    file.readline?\n",
    "    print(file.read())\n",
    "    "
   ]
  },
  {
   "cell_type": "code",
   "execution_count": 205,
   "metadata": {},
   "outputs": [],
   "source": [
    "print?"
   ]
  },
  {
   "cell_type": "code",
   "execution_count": null,
   "metadata": {},
   "outputs": [],
   "source": []
  }
 ],
 "metadata": {
  "kernelspec": {
   "display_name": "Python 3",
   "language": "python",
   "name": "python3"
  },
  "language_info": {
   "codemirror_mode": {
    "name": "ipython",
    "version": 3
   },
   "file_extension": ".py",
   "mimetype": "text/x-python",
   "name": "python",
   "nbconvert_exporter": "python",
   "pygments_lexer": "ipython3",
   "version": "3.7.3"
  }
 },
 "nbformat": 4,
 "nbformat_minor": 2
}
