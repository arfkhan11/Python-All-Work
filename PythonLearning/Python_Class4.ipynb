{
 "cells": [
  {
   "cell_type": "code",
   "execution_count": 13,
   "metadata": {},
   "outputs": [
    {
     "name": "stdout",
     "output_type": "stream",
     "text": [
      "Do You have CNIC?YES\n",
      "He has valid CNIC\n",
      "Is your name in the voter list?\n",
      "You cannot caste vote!.\n"
     ]
    }
   ],
   "source": [
    "user_cnic=(input(\"Do You have CNIC?\").lower())            #forlowercase\n",
    "if user_cnic=='yes':\n",
    "    print(\"He has valid CNIC\")\n",
    "    voter_list=(input(\"Is your name in the voter list?\").lower())\n",
    "    if voter_list=='yes':\n",
    "        print(\"You are a registered voter\")\n",
    "        print(\"You can cast vote\")\n",
    "    else:\n",
    "        print(\"You cannot caste vote!.\")\n",
    "else:\n",
    "    print(\"You cannot caste vote\")"
   ]
  },
  {
   "cell_type": "code",
   "execution_count": 15,
   "metadata": {},
   "outputs": [
    {
     "name": "stdout",
     "output_type": "stream",
     "text": [
      "Do You have ticket?no\n",
      "You cannot watch movie\n"
     ]
    }
   ],
   "source": [
    "user_ticket=(input(\"Do You have ticket?\").lower())            #forlowercase\n",
    "if user_ticket=='yes':\n",
    "    print(\"He has valid ticket\")\n",
    "    ticket_list=(input(\"Is your name in the ticket list?\").lower())\n",
    "    if ticket_list=='yes':\n",
    "        print(\"You are a registered ticketer\")\n",
    "        print(\"You can watch movie\")\n",
    "    else:\n",
    "        print(\"You cannot watch movie!.\")\n",
    "else:\n",
    "    print(\"You cannot watch movie\")"
   ]
  },
  {
   "cell_type": "code",
   "execution_count": 21,
   "metadata": {},
   "outputs": [
    {
     "name": "stdout",
     "output_type": "stream",
     "text": [
      "Enter A Number2\n",
      "Enter 2nd Number3\n",
      "2 is less than 3\n"
     ]
    }
   ],
   "source": [
    "num1=int(input(\"Enter A Number\"))\n",
    "num2=int(input(\"Enter 2nd Number\"))\n",
    "if num1>num2:\n",
    "    print(f\"{num1} is greater than {num2}\")\n",
    "elif num1==num2:\n",
    "        print(f\"{num1} is equal to {num2}\")\n",
    "elif num1<num2:\n",
    "        print(f\"{num1} is less than {num2}\")\n",
    "        \n",
    "else:\n",
    "    print(\"UFFFF!\")"
   ]
  },
  {
   "cell_type": "code",
   "execution_count": 24,
   "metadata": {},
   "outputs": [
    {
     "name": "stdout",
     "output_type": "stream",
     "text": [
      "Do You have CNIC?no\n",
      "Is your name in the voter list?np\n",
      "Not Allowed\n"
     ]
    }
   ],
   "source": [
    "user_cnic=(input(\"Do You have CNIC?\").lower())\n",
    "voter_list=(input(\"Is your name in the voter list?\").lower())\n",
    "if user_cnic=='yes' and voter_list=='yes':\n",
    "    print(\"Allowed To Cast\")\n",
    "else:\n",
    "    print(\"Not Allowed\")"
   ]
  },
  {
   "cell_type": "code",
   "execution_count": null,
   "metadata": {},
   "outputs": [],
   "source": []
  }
 ],
 "metadata": {
  "kernelspec": {
   "display_name": "Python 3",
   "language": "python",
   "name": "python3"
  },
  "language_info": {
   "codemirror_mode": {
    "name": "ipython",
    "version": 3
   },
   "file_extension": ".py",
   "mimetype": "text/x-python",
   "name": "python",
   "nbconvert_exporter": "python",
   "pygments_lexer": "ipython3",
   "version": "3.7.3"
  }
 },
 "nbformat": 4,
 "nbformat_minor": 2
}
